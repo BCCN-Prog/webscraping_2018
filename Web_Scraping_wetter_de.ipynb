{
 "cells": [
  {
   "cell_type": "code",
   "execution_count": 60,
   "metadata": {},
   "outputs": [],
   "source": [
    "from requests import get\n",
    "from requests.exceptions import RequestException\n",
    "from contextlib import closing\n",
    "from bs4 import BeautifulSoup\n",
    "# -*- coding: utf -*-"
   ]
  },
  {
   "cell_type": "code",
   "execution_count": 61,
   "metadata": {},
   "outputs": [],
   "source": [
    "def simple_get(url):\n",
    "    \"\"\"\n",
    "    Attempts to get the content at `url` by making an HTTP GET request.\n",
    "    If the content-type of response is some kind of HTML/XML, return the\n",
    "    text content, otherwise return None\n",
    "    \"\"\"\n",
    "    try:\n",
    "        with closing(get(url, stream=True)) as resp:\n",
    "            if is_good_response(resp):\n",
    "                return resp.content\n",
    "            else:\n",
    "                return None\n",
    "\n",
    "    except RequestException as e:\n",
    "        log_error('Error during requests to {0} : {1}'.format(url, str(e)))\n",
    "        return None\n",
    "\n",
    "\n",
    "def is_good_response(resp):\n",
    "    \"\"\"\n",
    "    Returns true if the response seems to be HTML, false otherwise\n",
    "    \"\"\"\n",
    "    content_type = resp.headers['Content-Type'].lower()\n",
    "    return (resp.status_code == 200 \n",
    "            and content_type is not None \n",
    "            and content_type.find('html') > -1)\n",
    "\n",
    "\n",
    "def log_error(e):\n",
    "    \"\"\"\n",
    "    It is always a good idea to log errors. \n",
    "    This function just prints them, but you can\n",
    "    make it do anything.\n",
    "    \"\"\"\n",
    "    print(e)\n",
    "    \n",
    "def find_between(s, first, last):\n",
    "    try:\n",
    "        start = s.index(first) + len(first)\n",
    "        end = s.index(last, start)\n",
    "        return s[start:end]\n",
    "    except ValueError:\n",
    "        return \"\"\n",
    "    \n",
    "def cut_string(s, cut):\n",
    "    try:\n",
    "        cut_from = s.index(cut) + len(cut)\n",
    "        return s[cut_from:]\n",
    "    except ValueError:\n",
    "        return \"\""
   ]
  },
  {
   "cell_type": "code",
   "execution_count": 62,
   "metadata": {},
   "outputs": [
    {
     "name": "stdout",
     "output_type": "stream",
     "text": [
      "Max/min Temp day 0: 26/9\n",
      "Max/min Temp day 1: 26/12\n",
      "Max/min Temp day 2: 26/14\n",
      "Max/min Temp day 3: 19/12\n",
      "Max/min Temp day 4: 22/9\n",
      "Max/min Temp day 5: 25/12\n",
      "Max/min Temp day 6: 22/12\n",
      "Max/min Temp day 7: 20/9\n",
      "Max/min Temp day 8: 21/10\n",
      "Max/min Temp day 9: 22/9\n",
      "Max/min Temp day 10: 22/9\n",
      "Max/min Temp day 11: 22/9\n",
      "Max/min Temp day 12: 22/10\n",
      "Max/min Temp day 13: 22/10\n",
      "Max/min Temp day 14: 22/10\n"
     ]
    }
   ],
   "source": [
    "raw_html = simple_get('https://www.wetter.de/deutschland/wetter-berlin-18228265/wetterprognose.html')\n",
    "html_string = raw_html.decode(\"utf-8\")\n",
    "\n",
    "min_day_string = '<span class=\"wt-color-temperature-min\">'\n",
    "max_day_string = '<span class=\"wt-color-temperature-max\">'\n",
    "closing_string = '&deg;</span>'\n",
    "\n",
    "min_days = []\n",
    "max_days = []\n",
    "\n",
    "for day in range(0,15):\n",
    "    max_temp = find_between(html_string, max_day_string, closing_string)\n",
    "    min_temp = find_between(html_string, min_day_string, closing_string)\n",
    "    \n",
    "    print('Max/min Temp day ' + str(day) + \": \" + max_temp + \"/\" + min_temp)\n",
    "    \n",
    "    #shorten string\n",
    "    html_string = cut_string(html_string,min_day_string)"
   ]
  }
 ],
 "metadata": {
  "kernelspec": {
   "display_name": "Python 3",
   "language": "python",
   "name": "python3"
  },
  "language_info": {
   "codemirror_mode": {
    "name": "ipython",
    "version": 3
   },
   "file_extension": ".py",
   "mimetype": "text/x-python",
   "name": "python",
   "nbconvert_exporter": "python",
   "pygments_lexer": "ipython3",
   "version": "3.6.4"
  }
 },
 "nbformat": 4,
 "nbformat_minor": 2
}
